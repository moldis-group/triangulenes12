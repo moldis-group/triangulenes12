{
 "cells": [
  {
   "cell_type": "code",
   "execution_count": 10,
   "id": "7de82da5-997d-41e0-a24b-9c9a29458b47",
   "metadata": {},
   "outputs": [
    {
     "name": "stdout",
     "output_type": "stream",
     "text": [
      "Scaling Coefficients:\n",
      "B2GP-PLYP: a = 1.0654, b = -0.1190\n",
      "PBE-QIDH: a = 1.0284, b = -0.1787\n",
      "L-ADC(2): a = 0.9404, b = 0.0103\n",
      "L-CC2: a = 0.9546, b = 0.0065\n",
      "Metric & B2GP-PLYP & B2GP-PLYP (scaled) &  & PBE-QIDH & PBE-QIDH (scaled) &  & L-ADC(2) & L-ADC(2) (scaled) &  & L-CC2 & L-CC2 (scaled) &  \\\\\n",
      "MSE & 0.119 & 0.000 &  & 0.177 & 0.000 &  & -0.019 & -0.000 &  & -0.013 & -0.000 &  \\\\\n",
      "MAE & 0.119 & 0.007 &  & 0.177 & 0.008 &  & 0.023 & 0.014 &  & 0.016 & 0.010 &  \\\\\n",
      "SDE & 0.011 & 0.009 &  & 0.009 & 0.009 &  & 0.017 & 0.016 &  & 0.013 & 0.012 &  \\\\\n"
     ]
    }
   ],
   "source": [
    "import numpy as np\n",
    "import pandas as pd\n",
    "import os\n",
    "\n",
    "def error_metrics(file1, file2):\n",
    "    \"\"\"Return (MSE, MAE, SDE) for file1 vs file2, col 3.\"\"\"\n",
    "    stg1 = np.loadtxt(file1, delimiter=',', usecols=2)\n",
    "    stg2 = np.loadtxt(file2, delimiter=',', usecols=2)\n",
    "    err = stg1 - stg2\n",
    "    mse = np.mean(err)\n",
    "    mae = np.mean(np.abs(err))\n",
    "    sde = np.std(err)\n",
    "    return mse, mae, sde\n",
    "\n",
    "# Reference file\n",
    "ref_file = \"../csv_files/TBE.csv\"\n",
    "y_ref = pd.read_csv(ref_file, header=None).iloc[:, 2].values\n",
    "\n",
    "# Methods: original path, method name\n",
    "methods = [\n",
    "    (\"../csv_files/AVDZ/B2GP-PLYP.csv\", \"B2GP-PLYP\"),\n",
    "    (\"../csv_files/AVDZ/PBE-QIDH.csv\", \"PBE-QIDH\"),\n",
    "    (\"../csv_files/AVDZ/L-ADC2.csv\", \"L-ADC(2)\"),\n",
    "    (\"../csv_files/AVDZ/L-CC2.csv\", \"L-CC2\")\n",
    "]\n",
    "\n",
    "scaled_paths = {}  # to map method name -> scaled file\n",
    "\n",
    "# Scale and store results\n",
    "coeffs = {}\n",
    "for orig_path, method in methods:\n",
    "    x_orig = pd.read_csv(orig_path, header=None).iloc[:, 2].values\n",
    "    a, b = np.polyfit(x_orig, y_ref, 1)\n",
    "    coeffs[method] = (a, b)\n",
    "\n",
    "    scaled_x = np.round(a * x_orig + b, 3)\n",
    "    scaled_data = pd.read_csv(orig_path, header=None)\n",
    "    scaled_data.iloc[:, 2] = scaled_x\n",
    "    scaled_name = f\"{method.replace(' ', '').replace('(', '').replace(')', '')}_scaled.csv\"\n",
    "    scaled_data.to_csv(scaled_name, index=False, header=False)\n",
    "    scaled_paths[method] = scaled_name\n",
    "\n",
    "\n",
    "print(\"Scaling Coefficients:\")\n",
    "for method, (a, b) in coeffs.items():\n",
    "    print(f\"{method}: a = {a:.4f}, b = {b:.4f}\")\n",
    "\n",
    "\n",
    "row_mse = [\"MSE\"]\n",
    "row_mae = [\"MAE\"]\n",
    "row_sde = [\"SDE\"]\n",
    "\n",
    "for orig_path, method in methods:\n",
    "    mse_o, mae_o, sde_o = error_metrics(orig_path, ref_file)\n",
    "    mse_s, mae_s, sde_s = error_metrics(scaled_paths[method], ref_file)\n",
    "    row_mse.extend([f\"{mse_o:.3f}\", f\"{mse_s:.3f}\", \"\"])\n",
    "    row_mae.extend([f\"{mae_o:.3f}\", f\"{mae_s:.3f}\", \"\"])\n",
    "    row_sde.extend([f\"{sde_o:.3f}\", f\"{sde_s:.3f}\", \"\"])\n",
    "\n",
    "header = [\"Metric\"]\n",
    "for _, method in methods:\n",
    "    header.extend([f\"{method}\", f\"{method} (scaled)\", \"\"])\n",
    "print(\" & \".join(header) + \" \\\\\\\\\")\n",
    "\n",
    "print(\" & \".join(row_mse) + \" \\\\\\\\\")\n",
    "print(\" & \".join(row_mae) + \" \\\\\\\\\")\n",
    "print(\" & \".join(row_sde) + \" \\\\\\\\\")\n"
   ]
  },
  {
   "cell_type": "code",
   "execution_count": null,
   "id": "46baaefc-443f-42dd-926d-6df5ecc7a7d2",
   "metadata": {},
   "outputs": [],
   "source": []
  },
  {
   "cell_type": "code",
   "execution_count": null,
   "id": "001ba872-4dfc-4f31-ac75-3c6d8df50231",
   "metadata": {},
   "outputs": [],
   "source": []
  }
 ],
 "metadata": {
  "kernelspec": {
   "display_name": "Python 3 (ipykernel)",
   "language": "python",
   "name": "python3"
  },
  "language_info": {
   "codemirror_mode": {
    "name": "ipython",
    "version": 3
   },
   "file_extension": ".py",
   "mimetype": "text/x-python",
   "name": "python",
   "nbconvert_exporter": "python",
   "pygments_lexer": "ipython3",
   "version": "3.10.12"
  }
 },
 "nbformat": 4,
 "nbformat_minor": 5
}
